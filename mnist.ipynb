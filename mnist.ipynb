{
 "cells": [
  {
   "cell_type": "code",
   "execution_count": 1,
   "metadata": {},
   "outputs": [
    {
     "name": "stdout",
     "output_type": "stream",
     "text": [
      "WARNING:tensorflow:From <ipython-input-1-1619da060e78>:4: read_data_sets (from tensorflow.contrib.learn.python.learn.datasets.mnist) is deprecated and will be removed in a future version.\n",
      "Instructions for updating:\n",
      "Please use alternatives such as official/mnist/dataset.py from tensorflow/models.\n",
      "WARNING:tensorflow:From e:\\python\\python36\\lib\\site-packages\\tensorflow\\contrib\\learn\\python\\learn\\datasets\\mnist.py:260: maybe_download (from tensorflow.contrib.learn.python.learn.datasets.base) is deprecated and will be removed in a future version.\n",
      "Instructions for updating:\n",
      "Please write your own downloading logic.\n",
      "WARNING:tensorflow:From e:\\python\\python36\\lib\\site-packages\\tensorflow\\contrib\\learn\\python\\learn\\datasets\\mnist.py:262: extract_images (from tensorflow.contrib.learn.python.learn.datasets.mnist) is deprecated and will be removed in a future version.\n",
      "Instructions for updating:\n",
      "Please use tf.data to implement this functionality.\n",
      "Extracting MNIST_data/train-images-idx3-ubyte.gz\n",
      "WARNING:tensorflow:From e:\\python\\python36\\lib\\site-packages\\tensorflow\\contrib\\learn\\python\\learn\\datasets\\mnist.py:267: extract_labels (from tensorflow.contrib.learn.python.learn.datasets.mnist) is deprecated and will be removed in a future version.\n",
      "Instructions for updating:\n",
      "Please use tf.data to implement this functionality.\n",
      "Extracting MNIST_data/train-labels-idx1-ubyte.gz\n",
      "WARNING:tensorflow:From e:\\python\\python36\\lib\\site-packages\\tensorflow\\contrib\\learn\\python\\learn\\datasets\\mnist.py:110: dense_to_one_hot (from tensorflow.contrib.learn.python.learn.datasets.mnist) is deprecated and will be removed in a future version.\n",
      "Instructions for updating:\n",
      "Please use tf.one_hot on tensors.\n",
      "Extracting MNIST_data/t10k-images-idx3-ubyte.gz\n",
      "Extracting MNIST_data/t10k-labels-idx1-ubyte.gz\n",
      "WARNING:tensorflow:From e:\\python\\python36\\lib\\site-packages\\tensorflow\\contrib\\learn\\python\\learn\\datasets\\mnist.py:290: DataSet.__init__ (from tensorflow.contrib.learn.python.learn.datasets.mnist) is deprecated and will be removed in a future version.\n",
      "Instructions for updating:\n",
      "Please use alternatives such as official/mnist/dataset.py from tensorflow/models.\n"
     ]
    }
   ],
   "source": [
    "import tensorflow as tf\n",
    "from tensorflow.examples.tutorials.mnist import input_data\n",
    "\n",
    "mnist = input_data.read_data_sets(\"MNIST_data/\", one_hot=True)\n",
    "#tensorflow API 讀mnist資料"
   ]
  },
  {
   "cell_type": "code",
   "execution_count": 24,
   "metadata": {
    "scrolled": true
   },
   "outputs": [
    {
     "name": "stdout",
     "output_type": "stream",
     "text": [
      "Number of training images:55000\n",
      "Number of validation images:5000\n",
      "Number of testing images:10000\n",
      "\n",
      "\n",
      "Number of training labels:55000\n",
      "Number of validation labels:5000\n",
      "Number of testing labels:10000\n"
     ]
    },
    {
     "data": {
      "text/plain": [
       "array([0., 0., 0., 0., 1., 0., 0., 0., 0., 0.])"
      ]
     },
     "execution_count": 24,
     "metadata": {},
     "output_type": "execute_result"
    }
   ],
   "source": [
    "print('Number of training images:' + str(mnist.train.images.shape[0]))\n",
    "print('Number of validation images:' + str(mnist.validation.images.shape[0]))\n",
    "print('Number of testing images:' + str(mnist.test.images.shape[0]))\n",
    "print('\\n')\n",
    "print('Number of training labels:' + str(mnist.train.labels.shape[0]))\n",
    "print('Number of validation labels:' + str(mnist.validation.labels.shape[0]))\n",
    "print('Number of testing labels:' + str(mnist.test.labels.shape[0]))\n",
    "#查看training, aalidation, testing data數量"
   ]
  },
  {
   "cell_type": "code",
   "execution_count": 27,
   "metadata": {},
   "outputs": [
    {
     "data": {
      "text/plain": [
       "<matplotlib.image.AxesImage at 0x21a01584b38>"
      ]
     },
     "execution_count": 27,
     "metadata": {},
     "output_type": "execute_result"
    },
    {
     "name": "stderr",
     "output_type": "stream",
     "text": [
      "e:\\python\\python36\\lib\\site-packages\\matplotlib\\font_manager.py:1328: UserWarning: findfont: Font family ['Microsoft JhengHei'] not found. Falling back to DejaVu Sans\n",
      "  (prop.get_family(), self.defaultFamily[fontext]))\n"
     ]
    },
    {
     "data": {
      "image/png": "[encoded data removed]",
      "text/plain": [
       "<Figure size 432x288 with 3 Axes>"
      ]
     },
     "metadata": {},
     "output_type": "display_data"
    }
   ],
   "source": [
    "import matplotlib.pyplot as plt\n",
    "sample_train = mnist.train.images[0].reshape(28, 28)\n",
    "#sample_validation = mnist.validation.images[0].reshape(28, 28)\n",
    "#sample_test = mnist.test.images[0].reshape(28, 28)\n",
    "plt.imshow(sample_train, cmap='gray')\n",
    "#plt.imshow(sample_validation, cmap='gray')\n",
    "#plt.imshow(sample_test, cmap='gray')\n",
    "plt.subplot(231)\n",
    "plt.gca().set_title('training sample')\n",
    "plt.imshow(mnist.train.images[0].reshape(28, 28), cmap='gray')\n",
    "plt.subplot(232)\n",
    "plt.gca().set_title('validation sample')\n",
    "plt.imshow(mnist.validation.images[0].reshape(28, 28), cmap='gray')\n",
    "plt.subplot(233)\n",
    "plt.gca().set_title('testing sample')\n",
    "plt.imshow(mnist.test.images[0].reshape(28, 28), cmap='gray')"
   ]
  },
  {
   "cell_type": "code",
   "execution_count": 14,
   "metadata": {},
   "outputs": [
    {
     "name": "stderr",
     "output_type": "stream",
     "text": [
      "e:\\python\\python36\\lib\\site-packages\\tensorflow\\python\\client\\session.py:1714: UserWarning: An interactive session is already active. This can cause out-of-memory errors in some cases. You must explicitly call `InteractiveSession.close()` to release resources held by the other session(s).\n",
      "  warnings.warn('An interactive session is already active. This can '\n"
     ]
    },
    {
     "name": "stdout",
     "output_type": "stream",
     "text": [
      "[0.2824, 2.2922456]\n",
      "[0.8706, 0.585413]\n",
      "[0.8851, 0.46648556]\n",
      "[0.8929, 0.4186896]\n",
      "[0.8981, 0.39178875]\n",
      "[0.9006, 0.37357852]\n",
      "[0.9036, 0.36020806]\n",
      "[0.9065, 0.3503317]\n",
      "[0.9084, 0.34235504]\n",
      "[0.9088, 0.3360726]\n",
      "[0.9106, 0.330825]\n",
      "[0.911, 0.32612666]\n",
      "[0.9128, 0.32220334]\n",
      "[0.9136, 0.31840065]\n",
      "[0.914, 0.315682]\n",
      "[0.9145, 0.3130408]\n",
      "[0.9165, 0.31028107]\n",
      "[0.9163, 0.30798334]\n",
      "[0.9166, 0.30600348]\n",
      "[0.9161, 0.304257]\n",
      "[0.9165, 0.3027142]\n",
      "[0.9176, 0.30108628]\n",
      "[0.9183, 0.29937422]\n",
      "[0.9178, 0.29807305]\n",
      "[0.9177, 0.29698807]\n",
      "[0.9183, 0.29612157]\n",
      "[0.9188, 0.29465553]\n",
      "[0.9188, 0.2934587]\n",
      "[0.9183, 0.292656]\n",
      "[0.9193, 0.2916947]\n",
      "[0.919, 0.29092968]\n",
      "[0.9198, 0.28998747]\n",
      "[0.9197, 0.28995824]\n",
      "[0.9198, 0.28858858]\n",
      "[0.9197, 0.2878997]\n",
      "[0.92, 0.28715158]\n",
      "[0.9205, 0.28671366]\n",
      "[0.9196, 0.28629398]\n",
      "[0.9204, 0.2854312]\n",
      "[0.9206, 0.2851275]\n",
      "[0.9211, 0.28456864]\n",
      "[0.9202, 0.2839508]\n",
      "[0.9199, 0.2833697]\n",
      "[0.9205, 0.28300938]\n",
      "[0.921, 0.28234774]\n",
      "[0.9205, 0.282429]\n",
      "[0.9199, 0.28155398]\n",
      "[0.9209, 0.28165814]\n",
      "[0.9215, 0.28081638]\n",
      "[0.9212, 0.28060555]\n",
      "[0.922, 0.280157]\n",
      "[0.9216, 0.27993903]\n",
      "[0.9213, 0.2796344]\n",
      "[0.9215, 0.27926496]\n",
      "[0.9217, 0.27924013]\n",
      "[0.9218, 0.27867827]\n",
      "[0.9215, 0.27842677]\n",
      "[0.9213, 0.2780546]\n",
      "[0.9219, 0.2778043]\n",
      "[0.9216, 0.27766654]\n",
      "[0.922, 0.27725342]\n",
      "[0.9222, 0.2770328]\n",
      "[0.9223, 0.27703506]\n",
      "[0.9226, 0.2767239]\n",
      "[0.9221, 0.27667403]\n",
      "[0.9219, 0.27644718]\n",
      "[0.9219, 0.27604908]\n",
      "[0.9224, 0.2757195]\n",
      "[0.9224, 0.27566215]\n",
      "[0.9231, 0.27545378]\n",
      "[0.9224, 0.2754517]\n",
      "[0.9229, 0.2748785]\n",
      "[0.9219, 0.27524114]\n",
      "[0.9226, 0.27467358]\n",
      "[0.9225, 0.27486515]\n",
      "[0.9224, 0.27452245]\n",
      "[0.923, 0.27430654]\n",
      "[0.9224, 0.27454996]\n",
      "[0.9222, 0.27374095]\n",
      "[0.9223, 0.2737333]\n",
      "[0.9227, 0.2734814]\n",
      "[0.9219, 0.2739103]\n",
      "[0.9223, 0.2730731]\n",
      "[0.9228, 0.27336508]\n",
      "[0.9235, 0.27320093]\n",
      "[0.9226, 0.27295488]\n",
      "[0.9231, 0.27262038]\n",
      "[0.9232, 0.27258974]\n",
      "[0.923, 0.27254382]\n",
      "[0.9228, 0.272445]\n",
      "[0.9229, 0.27225006]\n",
      "[0.9229, 0.2723696]\n",
      "[0.9225, 0.2720032]\n",
      "[0.923, 0.27178538]\n",
      "[0.9225, 0.27188888]\n",
      "[0.9229, 0.27153066]\n",
      "[0.9222, 0.27172852]\n",
      "[0.9229, 0.27146676]\n",
      "[0.9231, 0.27149186]\n",
      "[0.9231, 0.27107495]\n"
     ]
    }
   ],
   "source": [
    "x = tf.placeholder(tf.float32, [None, 784])\n",
    "y = tf.placeholder(tf.float32, [None, 10])\n",
    "#placeholder可以傳入變數的shape也就是變數的概念\n",
    "W_L1 = tf.Variable(tf.zeros([784, 10]))\n",
    "b_L1 = tf.Variable(tf.zeros([10]))\n",
    "#需要的weightc和bias數量\n",
    "\n",
    "\n",
    "#單層的非線性mapping\n",
    "#input -> hidden layer -> sofmax\n",
    "\n",
    "output = tf.matmul(x, W_L1) + b_L1\n",
    "#單層的非線性mapping\n",
    "#input -> hidden layer -> sofmax\n",
    "\n",
    "#建好Graph\n",
    "cross_entropy = tf.reduce_mean(tf.nn.softmax_cross_entropy_with_logits(labels=y, logits=output))\n",
    "#Loss function(cross entropy)預測出來的資料分布與真實data的資料分布的誤差(距離)\n",
    "sess = tf.InteractiveSession()\n",
    "tf.global_variables_initializer().run()\n",
    "#initial 變數(weights, biases)\n",
    "train_step = tf.train.GradientDescentOptimizer(0.01).minimize(cross_entropy)\n",
    "#optimalization, learning rate 0.01 利用上面的cross entropy最佳化(最小loss 對應的W和b) \n",
    "for i in range(100000):\n",
    "#training 10000個step, 一個step代表一個batch完成training\n",
    "    batch_x, batch_y = mnist.train.next_batch(100)\n",
    "    #batch size = 100每個batch包含100個training sample \n",
    "    sess.run(train_step, feed_dict={x: batch_x, y: batch_y})\n",
    "    if i % 1000 == 0:\n",
    "    #每1000個step報告一次precision和loss    \n",
    "        correct_prediction = tf.equal(tf.argmax(output, 1), tf.argmax(y, 1))\n",
    "        accuracy = tf.reduce_mean(tf.cast(correct_prediction, tf.float32))\n",
    "        print(sess.run([accuracy, cross_entropy], feed_dict={x: mnist.test.images, y: mnist.test.labels}))\n"
   ]
  },
  {
   "cell_type": "code",
   "execution_count": null,
   "metadata": {},
   "outputs": [],
   "source": []
  },
  {
   "cell_type": "code",
   "execution_count": null,
   "metadata": {},
   "outputs": [],
   "source": []
  }
 ],
 "metadata": {
  "kernelspec": {
   "display_name": "Python 3",
   "language": "python",
   "name": "python3"
  },
  "language_info": {
   "codemirror_mode": {
    "name": "ipython",
    "version": 3
   },
   "file_extension": ".py",
   "mimetype": "text/x-python",
   "name": "python",
   "nbconvert_exporter": "python",
   "pygments_lexer": "ipython3",
   "version": "3.6.5"
  }
 },
 "nbformat": 4,
 "nbformat_minor": 2
}
